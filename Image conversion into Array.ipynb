{
 "cells": [
  {
   "cell_type": "markdown",
   "id": "d3a3812d",
   "metadata": {},
   "source": [
    "#          Image Conversion into Arrays(NumPy)\n"
   ]
  },
  {
   "cell_type": "markdown",
   "id": "bb43ee78",
   "metadata": {},
   "source": [
    "#### Pillow version check..."
   ]
  },
  {
   "cell_type": "code",
   "execution_count": 22,
   "id": "8c364cde",
   "metadata": {},
   "outputs": [],
   "source": [
    "import PIL"
   ]
  },
  {
   "cell_type": "code",
   "execution_count": 23,
   "id": "35f12ea3",
   "metadata": {},
   "outputs": [
    {
     "name": "stdout",
     "output_type": "stream",
     "text": [
      "Installed Pillow Version: 8.2.0\n"
     ]
    }
   ],
   "source": [
    "print('Installed Pillow Version:', PIL.__version__)"
   ]
  },
  {
   "cell_type": "markdown",
   "id": "75fcdd16",
   "metadata": {},
   "source": [
    "### Properties of the image"
   ]
  },
  {
   "cell_type": "code",
   "execution_count": 24,
   "id": "daf38904",
   "metadata": {},
   "outputs": [],
   "source": [
    "from PIL import Image"
   ]
  },
  {
   "cell_type": "code",
   "execution_count": 25,
   "id": "7d0cdf1d",
   "metadata": {},
   "outputs": [],
   "source": [
    "image = Image.open('1.jpg')"
   ]
  },
  {
   "cell_type": "code",
   "execution_count": 26,
   "id": "f7d3fabe",
   "metadata": {},
   "outputs": [
    {
     "name": "stdout",
     "output_type": "stream",
     "text": [
      "JPEG\n",
      "(2560, 1600)\n",
      "RGB\n"
     ]
    }
   ],
   "source": [
    "print(image.format)\n",
    "print(image.size)\n",
    "print(image.mode)"
   ]
  },
  {
   "cell_type": "markdown",
   "id": "88fbf3a8",
   "metadata": {},
   "source": [
    "### Converting an image into NumPy Array"
   ]
  },
  {
   "cell_type": "code",
   "execution_count": 27,
   "id": "cc241ab8",
   "metadata": {},
   "outputs": [],
   "source": [
    "from PIL import Image "
   ]
  },
  {
   "cell_type": "code",
   "execution_count": 30,
   "id": "f38721d0",
   "metadata": {},
   "outputs": [],
   "source": [
    "from numpy import asarray"
   ]
  },
  {
   "cell_type": "code",
   "execution_count": 31,
   "id": "6c3f88f1",
   "metadata": {},
   "outputs": [],
   "source": [
    "img=Image.open('1.jpg')"
   ]
  },
  {
   "cell_type": "code",
   "execution_count": 32,
   "id": "10f64043",
   "metadata": {},
   "outputs": [],
   "source": [
    "numpydata=asarray(img)"
   ]
  },
  {
   "cell_type": "code",
   "execution_count": 33,
   "id": "423a1b33",
   "metadata": {},
   "outputs": [
    {
     "name": "stdout",
     "output_type": "stream",
     "text": [
      "<class 'numpy.ndarray'>\n"
     ]
    }
   ],
   "source": [
    "print(type(numpydata))"
   ]
  },
  {
   "cell_type": "code",
   "execution_count": 34,
   "id": "8e561321",
   "metadata": {},
   "outputs": [
    {
     "name": "stdout",
     "output_type": "stream",
     "text": [
      "(1600, 2560, 3)\n"
     ]
    }
   ],
   "source": [
    "print(numpydata.shape)"
   ]
  },
  {
   "cell_type": "markdown",
   "id": "ef578d9e",
   "metadata": {},
   "source": [
    "### The value of each pixel of the NumPy array image"
   ]
  },
  {
   "cell_type": "code",
   "execution_count": 35,
   "id": "1df13331",
   "metadata": {},
   "outputs": [],
   "source": [
    "from PIL import Image\n"
   ]
  },
  {
   "cell_type": "code",
   "execution_count": 36,
   "id": "c0b76e52",
   "metadata": {},
   "outputs": [],
   "source": [
    "from numpy import asarray"
   ]
  },
  {
   "cell_type": "code",
   "execution_count": 38,
   "id": "f88c7873",
   "metadata": {},
   "outputs": [],
   "source": [
    "img=Image.open('1.jpg')\n"
   ]
  },
  {
   "cell_type": "code",
   "execution_count": 39,
   "id": "321944ac",
   "metadata": {},
   "outputs": [],
   "source": [
    "numpydata=asarray(img)\n"
   ]
  },
  {
   "cell_type": "code",
   "execution_count": 40,
   "id": "4b5f2390",
   "metadata": {},
   "outputs": [
    {
     "name": "stdout",
     "output_type": "stream",
     "text": [
      "[[[16  0  0]\n",
      "  [17  0  0]\n",
      "  [20  0  1]\n",
      "  ...\n",
      "  [ 4  8 17]\n",
      "  [13 17 26]\n",
      "  [20 24 33]]\n",
      "\n",
      " [[16  0  0]\n",
      "  [17  0  0]\n",
      "  [20  0  1]\n",
      "  ...\n",
      "  [ 3  7 16]\n",
      "  [10 14 23]\n",
      "  [16 20 29]]\n",
      "\n",
      " [[17  0  0]\n",
      "  [18  0  0]\n",
      "  [21  1  2]\n",
      "  ...\n",
      "  [ 1  5 14]\n",
      "  [ 6 10 19]\n",
      "  [ 9 13 22]]\n",
      "\n",
      " ...\n",
      "\n",
      " [[22  0  3]\n",
      "  [22  0  3]\n",
      "  [26  1  5]\n",
      "  ...\n",
      "  [ 0  4  7]\n",
      "  [ 0  3  6]\n",
      "  [ 0  3  6]]\n",
      "\n",
      " [[23  1  4]\n",
      "  [23  0  2]\n",
      "  [23  0  2]\n",
      "  ...\n",
      "  [ 0  4  7]\n",
      "  [ 1  5  8]\n",
      "  [ 1  5  8]]\n",
      "\n",
      " [[26  1  5]\n",
      "  [23  0  2]\n",
      "  [22  0  0]\n",
      "  ...\n",
      "  [ 1  5  8]\n",
      "  [ 1  5  8]\n",
      "  [ 2  6  9]]]\n"
     ]
    }
   ],
   "source": [
    "print(numpydata)"
   ]
  },
  {
   "cell_type": "code",
   "execution_count": null,
   "id": "c2e105b3",
   "metadata": {},
   "outputs": [],
   "source": []
  }
 ],
 "metadata": {
  "kernelspec": {
   "display_name": "Python 3",
   "language": "python",
   "name": "python3"
  },
  "language_info": {
   "codemirror_mode": {
    "name": "ipython",
    "version": 3
   },
   "file_extension": ".py",
   "mimetype": "text/x-python",
   "name": "python",
   "nbconvert_exporter": "python",
   "pygments_lexer": "ipython3",
   "version": "3.8.8"
  }
 },
 "nbformat": 4,
 "nbformat_minor": 5
}
